{
 "cells": [
  {
   "cell_type": "code",
   "execution_count": 2,
   "metadata": {},
   "outputs": [],
   "source": [
    "import sys\n",
    "sys.path.append(\"..\")  # Add the parent directory to the path\n"
   ]
  },
  {
   "cell_type": "markdown",
   "metadata": {},
   "source": [
    "### visualize point cloud "
   ]
  },
  {
   "cell_type": "code",
   "execution_count": 6,
   "metadata": {},
   "outputs": [],
   "source": [
    "import numpy as np \n",
    "import open3d as o3d \n",
    "\n",
    "dataset = \"hope\"\n",
    "object_id = 1\n",
    "n_views = 7\n",
    "path_pcd_up = f\"/home/sergio/onboarding_stage/data/{dataset}/obj_{object_id:06d}/up/{n_views}_views/sparse/0/points3D.ply\"\n",
    "path_pcd_down = f\"/home/sergio/onboarding_stage/data/{dataset}/obj_{object_id:06d}/down/{n_views}_views/sparse/0/points3D.ply\"\n",
    "point_cloud_up = o3d.io.read_point_cloud(path_pcd_up)\n",
    "point_cloud_down = o3d.io.read_point_cloud(path_pcd_down)\n",
    "\n",
    "pcd_aux_up = o3d.geometry.PointCloud()\n",
    "pcd_aux_up.points = o3d.utility.Vector3dVector(np.asarray(point_cloud_up.points))\n",
    "pcd_aux_up.colors = o3d.utility.Vector3dVector(np.asarray(point_cloud_up.colors))\n",
    "\n",
    "pcd_aux_down = o3d.geometry.PointCloud()\n",
    "pcd_aux_down.points = o3d.utility.Vector3dVector(np.asarray(point_cloud_down.points))\n",
    "pcd_aux_down.colors = o3d.utility.Vector3dVector(np.asarray(point_cloud_down.colors))\n",
    "\n",
    "o3d.visualization.draw_geometries([pcd_aux_up, pcd_aux_down])"
   ]
  },
  {
   "cell_type": "markdown",
   "metadata": {},
   "source": [
    "### visualize point cloud aligned "
   ]
  },
  {
   "cell_type": "code",
   "execution_count": 7,
   "metadata": {},
   "outputs": [],
   "source": [
    "import open3d as o3d \n",
    "\n",
    "dataset = \"hope\"\n",
    "object_id = 1\n",
    "path_pcd_align = f\"/home/sergio/onboarding_stage/data/{dataset}/obj_{object_id:06d}/align/sparse/0/points3D.ply\"\n",
    "pcd_align = o3d.io.read_point_cloud(path_pcd_align)\n",
    "\n",
    "pcd_aux_align = o3d.geometry.PointCloud()\n",
    "pcd_aux_align.points = o3d.utility.Vector3dVector(np.asarray(pcd_align.points))\n",
    "pcd_aux_align.colors = o3d.utility.Vector3dVector(np.asarray(pcd_align.colors))\n",
    "\n",
    "o3d.visualization.draw_geometries([pcd_aux_align])"
   ]
  },
  {
   "cell_type": "markdown",
   "metadata": {},
   "source": [
    "### test poses "
   ]
  },
  {
   "cell_type": "code",
   "execution_count": 3,
   "metadata": {},
   "outputs": [],
   "source": [
    "import numpy as np \n",
    "import open3d as o3d \n",
    "from utils.colmap_loader import read_pose_matrices\n",
    "\n",
    "dataset = \"hope\"\n",
    "object_id = 1\n",
    "path_pcd = f\"/home/sergio/onboarding_stage/data/{dataset}/obj_{object_id:06d}/align/sparse/0/points3D.ply\"\n",
    "point_cloud = o3d.io.read_point_cloud(path_pcd)\n",
    "\n",
    "pcd_aux = o3d.geometry.PointCloud()\n",
    "pcd_aux.points = o3d.utility.Vector3dVector(np.asarray(point_cloud.points))\n",
    "pcd_aux.colors = o3d.utility.Vector3dVector(np.asarray(point_cloud.colors))\n",
    "center_pcd = pcd_aux.get_center()\n",
    "\n",
    "path_poses = f\"/home/sergio/onboarding_stage/data/{dataset}/obj_{object_id:06d}/align/sparse/0/images.txt\"\n",
    "poses = read_pose_matrices(path_poses)\n",
    "poses_mat = [poses[idx]['pose'] for idx in range(len(poses))]\n",
    "t_vecs = [pose_mat[:3, 3] for pose_mat in poses_mat]\n",
    "t_vecs = np.vstack(t_vecs)\n",
    "\n",
    "path_poses_down_original = f\"/home/sergio/onboarding_stage/data/{dataset}/obj_{object_id:06d}/down/7_views/sparse/0/images.txt\"\n",
    "poses_down_original = read_pose_matrices(path_poses_down_original)\n",
    "poses_mat_down_orignal = [poses_down_original[idx]['pose'] for idx in range(len(poses_down_original))]\n",
    "t_vecs_down_original = [pose_mat[:3, 3] for pose_mat in poses_mat_down_orignal]\n",
    "t_vecs_down_original = np.vstack(t_vecs_down_original)\n",
    "\n",
    "#R = np.array([\n",
    "#    [1,  0,  0],\n",
    "#    [0, -1,  0],\n",
    "#    [0,  0, -1]])\n",
    "# pcd align up\n",
    "pcd_cams = o3d.geometry.PointCloud()\n",
    "pcd_cams.points = o3d.utility.Vector3dVector(t_vecs[:7])\n",
    "pcd_cams.colors = o3d.utility.Vector3dVector(np.array([0, 255, 0] * 7).reshape(7, -1))\n",
    "# pcd align down \n",
    "pcd_cams_down = o3d.geometry.PointCloud()\n",
    "pcd_cams_down.points = o3d.utility.Vector3dVector(t_vecs[7:])\n",
    "pcd_cams_down.colors = o3d.utility.Vector3dVector(np.array([0, 0, 255] * 7).reshape(7, -1))\n",
    "# pcd original down \n",
    "pcd_cams_down_original = o3d.geometry.PointCloud()\n",
    "pcd_cams_down_original.points = o3d.utility.Vector3dVector(t_vecs_down_original)\n",
    "pcd_cams_down_original.colors = o3d.utility.Vector3dVector(np.array([255, 0, 0] * 7).reshape(7, -1))\n",
    "#pcd_cams_down_original.translate(-center_pcd)\n",
    "#pcd_cams_down_original.rotate(R, center=(0, 0, 0))\n",
    "#pcd_cams_down_original.translate(center_pcd)\n",
    "\n",
    "\n",
    "o3d.visualization.draw_geometries([pcd_aux, pcd_cams, pcd_cams_down])"
   ]
  }
 ],
 "metadata": {
  "kernelspec": {
   "display_name": "gs_lab",
   "language": "python",
   "name": "python3"
  },
  "language_info": {
   "codemirror_mode": {
    "name": "ipython",
    "version": 3
   },
   "file_extension": ".py",
   "mimetype": "text/x-python",
   "name": "python",
   "nbconvert_exporter": "python",
   "pygments_lexer": "ipython3",
   "version": "3.9.21"
  }
 },
 "nbformat": 4,
 "nbformat_minor": 2
}
