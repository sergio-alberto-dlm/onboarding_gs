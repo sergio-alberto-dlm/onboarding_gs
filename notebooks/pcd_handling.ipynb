{
 "cells": [
  {
   "cell_type": "code",
   "execution_count": 1,
   "metadata": {},
   "outputs": [],
   "source": [
    "import sys\n",
    "sys.path.append(\"..\")  # Add the parent directory to the path\n"
   ]
  },
  {
   "cell_type": "code",
   "execution_count": 10,
   "metadata": {},
   "outputs": [],
   "source": [
    "import open3d as o3d \n",
    "\n",
    "dataset = \"hope\"\n",
    "object_id = 1\n",
    "face = \"up\"\n",
    "num_views = 7\n",
    "path_pcd = f\"/home/sergio/onboarding_stage/data/{dataset}/obj_{object_id:06d}/{face}/{num_views}_views/sparse/0/points3D.ply\"\n",
    "\n",
    "point_cloud = o3d.io.read_point_cloud(path_pcd)\n",
    "o3d.visualization.draw_geometries([point_cloud])"
   ]
  }
 ],
 "metadata": {
  "kernelspec": {
   "display_name": "gs_lab",
   "language": "python",
   "name": "python3"
  },
  "language_info": {
   "codemirror_mode": {
    "name": "ipython",
    "version": 3
   },
   "file_extension": ".py",
   "mimetype": "text/x-python",
   "name": "python",
   "nbconvert_exporter": "python",
   "pygments_lexer": "ipython3",
   "version": "3.9.21"
  }
 },
 "nbformat": 4,
 "nbformat_minor": 2
}
