{
 "cells": [
  {
   "cell_type": "code",
   "execution_count": 2,
   "metadata": {},
   "outputs": [
    {
     "name": "stderr",
     "output_type": "stream",
     "text": [
      "Generating frames: 100%|██████████| 50/50 [00:00<00:00, 252.21it/s]\n"
     ]
    },
    {
     "name": "stdout",
     "output_type": "stream",
     "text": [
      "Video saved to toy_video.mp4\n"
     ]
    }
   ],
   "source": [
    "import numpy as np\n",
    "import imageio\n",
    "import tqdm\n",
    "\n",
    "def toy_render_traj(output_path=\"toy_video.mp4\", num_frames=100, fps=30):\n",
    "    \"\"\"\n",
    "    Generates a toy video with colored frames to test render_traj functionality.\n",
    "    \n",
    "    Parameters:\n",
    "        output_path (str): Path to save the output video.\n",
    "        num_frames (int): Number of frames to generate.\n",
    "        fps (int): Frames per second for the video.\n",
    "    \"\"\"\n",
    "    # Video dimensions\n",
    "    width, height = 256, 256\n",
    "    \n",
    "    # Create video writer\n",
    "    writer = imageio.get_writer(output_path, fps=fps)\n",
    "    \n",
    "    for i in tqdm.trange(num_frames, desc=\"Generating frames\"):\n",
    "        # Create a toy frame with gradient colors\n",
    "        frame = np.zeros((height, width, 3), dtype=np.uint8)\n",
    "        frame[..., 0] = (np.sin(i * 0.1) + 1) * 127  # Red channel varies with time\n",
    "        frame[..., 1] = np.linspace(0, 255, width, dtype=np.uint8)  # Green gradient\n",
    "        frame[..., 2] = np.linspace(255, 0, height, dtype=np.uint8)[:, None]  # Blue gradient\n",
    "        \n",
    "        # Add the frame to the video\n",
    "        writer.append_data(frame)\n",
    "    \n",
    "    writer.close()\n",
    "    print(f\"Video saved to {output_path}\")\n",
    "\n",
    "# Run the toy example\n",
    "toy_render_traj(output_path=\"toy_video.mp4\", num_frames=50, fps=24)\n"
   ]
  }
 ],
 "metadata": {
  "kernelspec": {
   "display_name": "gs_lab",
   "language": "python",
   "name": "python3"
  },
  "language_info": {
   "codemirror_mode": {
    "name": "ipython",
    "version": 3
   },
   "file_extension": ".py",
   "mimetype": "text/x-python",
   "name": "python",
   "nbconvert_exporter": "python",
   "pygments_lexer": "ipython3",
   "version": "3.9.21"
  }
 },
 "nbformat": 4,
 "nbformat_minor": 2
}
